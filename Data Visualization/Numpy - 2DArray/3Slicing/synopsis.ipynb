{
 "cells": [
  {
   "cell_type": "markdown",
   "metadata": {},
   "source": [
    "# Topics\n",
    "\n",
    "**Slicing & Indexing**\n",
    "\n",
    "**Iterating** over arrays\n",
    "\n",
    "**Stacking, Spliting**\n",
    "\n",
    "**Bolean arrays**"
   ]
  },
  {
   "cell_type": "markdown",
   "metadata": {},
   "source": [
    "# Universal Functions:\n",
    "\n",
    "np.split\n",
    "\n",
    "np.stack\n",
    "\n",
    "np.array           \n",
    "giving array input manually\n",
    "\n",
    "np.arange.reshape     \n",
    "giving array input through range function and reshaping it"
   ]
  }
 ],
 "metadata": {
  "language_info": {
   "name": "python"
  }
 },
 "nbformat": 4,
 "nbformat_minor": 2
}
